{
 "cells": [
  {
   "cell_type": "markdown",
   "id": "60e02fe6",
   "metadata": {},
   "source": [
    "# Prediction of winning probability of team"
   ]
  },
  {
   "cell_type": "code",
   "execution_count": 1,
   "id": "427c9506",
   "metadata": {},
   "outputs": [],
   "source": [
    "import numpy as np\n",
    "import pandas as pd\n",
    "import matplotlib.pyplot as plt\n",
    "import seaborn as sns\n",
    "import datetime\n",
    "import warnings\n",
    "warnings.filterwarnings('ignore')\n",
    "from sklearn.pipeline import Pipeline\n",
    "from sklearn.linear_model import LogisticRegression\n",
    "from sklearn.neighbors import KNeighborsClassifier\n",
    "from sklearn.svm import SVC\n",
    "from sklearn.ensemble import RandomForestClassifier\n",
    "from sklearn.ensemble import GradientBoostingClassifier\n",
    "from xgboost import XGBClassifier\n",
    "from sklearn.model_selection import GridSearchCV\n",
    "from sklearn.metrics import accuracy_score"
   ]
  },
  {
   "cell_type": "code",
   "execution_count": 2,
   "id": "e628d5a4",
   "metadata": {},
   "outputs": [],
   "source": [
    "df=pd.read_csv(\"all_season_details.csv\")\n",
    "df2=pd.read_csv(\"all_season_summary.csv\")\n",
    "df3=pd.read_csv(\"all_season_batting_card.csv\")"
   ]
  },
  {
   "cell_type": "code",
   "execution_count": 3,
   "id": "632189eb",
   "metadata": {},
   "outputs": [],
   "source": [
    "df2.rename(columns={\"id\":\"match_id\"},inplace=True)  # To match with df1"
   ]
  },
  {
   "cell_type": "code",
   "execution_count": 4,
   "id": "bacaf425",
   "metadata": {},
   "outputs": [],
   "source": [
    "df=df.merge(df2[[\"match_id\",\"winner\"]])"
   ]
  },
  {
   "cell_type": "code",
   "execution_count": 5,
   "id": "2e40d6e6",
   "metadata": {},
   "outputs": [],
   "source": [
    "df=df.apply(lambda x: x.replace(\"KXIP\",\"PBKS\"))  # KXIP was changed to PBKS\n",
    "df2=df2.apply(lambda x: x.replace(\"KXIP\",\"PBKS\"))"
   ]
  },
  {
   "cell_type": "code",
   "execution_count": 6,
   "id": "210acf51",
   "metadata": {},
   "outputs": [],
   "source": [
    "# Dropping the old teams\n",
    "df.drop(df[(df[\"home_team\"]==\"RPS\") | (df[\"away_team\"]==\"RPS\")].index,axis=0,inplace=True)\n",
    "df.drop(df[(df[\"home_team\"]==\"GL\") | (df[\"away_team\"]==\"GL\")].index,axis=0,inplace=True)\n",
    "df.drop(df[(df[\"home_team\"]==\"Kochi\") | (df[\"away_team\"]==\"Kochi\")].index,axis=0,inplace=True)\n",
    "df.drop(df[(df[\"home_team\"]==\"PWI\") | (df[\"away_team\"]==\"PWI\")].index,axis=0,inplace=True)\n",
    "\n",
    "df2.drop(df2[(df2[\"home_team\"]==\"RPS\") | (df2[\"away_team\"]==\"RPS\")].index,axis=0,inplace=True)\n",
    "df2.drop(df2[(df2[\"home_team\"]==\"GL\") | (df2[\"away_team\"]==\"GL\")].index,axis=0,inplace=True)\n",
    "df2.drop(df2[(df2[\"home_team\"]==\"Kochi\") | (df2[\"away_team\"]==\"Kochi\")].index,axis=0,inplace=True)\n",
    "df2.drop(df2[(df2[\"home_team\"]==\"PWI\") | (df2[\"away_team\"]==\"PWI\")].index,axis=0,inplace=True)"
   ]
  },
  {
   "cell_type": "code",
   "execution_count": 7,
   "id": "dd81f8d6",
   "metadata": {},
   "outputs": [],
   "source": [
    "# List of match ids which are not comon in both df1 and df2\n",
    "#list(pd.Series(df2[\"match_id\"].unique())[~pd.Series(df2[\"match_id\"].unique()).isin(list(df[\"match_id\"].unique()))])  "
   ]
  },
  {
   "cell_type": "code",
   "execution_count": 8,
   "id": "ac9f58e5",
   "metadata": {},
   "outputs": [],
   "source": [
    "df2.drop(df2[df2[\"match_id\"].isin(list(pd.Series(df2[\"match_id\"].unique())[~pd.Series(df2[\"match_id\"].unique()).isin(list(df[\"match_id\"].unique()))]))].index,axis=0,inplace=True)  # Removing matches from df2 which are not in common in both df1 and df2\n",
    "df2.reset_index(inplace=True,drop=True) "
   ]
  },
  {
   "cell_type": "code",
   "execution_count": 9,
   "id": "ca5030d4",
   "metadata": {},
   "outputs": [],
   "source": [
    "#df2[\"2nd_inning_score\"].isnull().sum()"
   ]
  },
  {
   "cell_type": "code",
   "execution_count": 10,
   "id": "ce74ebc5",
   "metadata": {},
   "outputs": [],
   "source": [
    "df2.dropna(subset=[\"2nd_inning_score\"],inplace=True,axis=0) #Removing null row from 2nd_inning_score feature\n",
    "df2.reset_index(inplace=True,drop=True)"
   ]
  },
  {
   "cell_type": "code",
   "execution_count": 11,
   "id": "7e02c3cf",
   "metadata": {},
   "outputs": [],
   "source": [
    "df.drop(df[df[\"match_id\"].isin([829763,501265])].index,inplace=True,axis=0) # Removing matches from df which are not in common in both df1 and df2\n",
    "df.reset_index(inplace=True,drop=True)"
   ]
  },
  {
   "cell_type": "code",
   "execution_count": 12,
   "id": "6bb18a96",
   "metadata": {},
   "outputs": [],
   "source": [
    "# Extracting score from the features\n",
    "df2[\"1st_inning_score\"]=df2[\"1st_inning_score\"].apply(lambda x: x.split(\"/\")[0])\n",
    "df2[\"2nd_inning_score\"]=df2[\"2nd_inning_score\"].apply(lambda x: x.split(\"/\")[0])"
   ]
  },
  {
   "cell_type": "code",
   "execution_count": 13,
   "id": "6bef02a9",
   "metadata": {},
   "outputs": [],
   "source": [
    "df=df.merge(df2[[\"match_id\",\"1st_inning_score\"]])\n",
    "df=df.merge(df2[[\"match_id\",\"2nd_inning_score\"]])"
   ]
  },
  {
   "cell_type": "code",
   "execution_count": 14,
   "id": "373d4046",
   "metadata": {},
   "outputs": [],
   "source": [
    "batting_team=[]\n",
    "bowling_team=[]"
   ]
  },
  {
   "cell_type": "code",
   "execution_count": 15,
   "id": "062dd19e",
   "metadata": {},
   "outputs": [
    {
     "data": {
      "text/plain": [
       "(834, 45)"
      ]
     },
     "execution_count": 15,
     "metadata": {},
     "output_type": "execute_result"
    }
   ],
   "source": [
    "df2.shape"
   ]
  },
  {
   "cell_type": "code",
   "execution_count": 16,
   "id": "5233976a",
   "metadata": {},
   "outputs": [],
   "source": [
    "# Creating new features batting_team and bowling_team\n",
    "for i in range(df2.shape[0]):\n",
    "    if (((df2[\"home_team\"][i])==df2[\"toss_won\"][i]) & ((df2[\"decision\"][i])==\"BAT FIRST\") ):\n",
    "        batting_team.append(df2[\"home_team\"][i])\n",
    "        bowling_team.append(df2[\"away_team\"][i])\n",
    "    elif (((df2[\"home_team\"][i])==df2[\"toss_won\"][i]) & ((df2[\"decision\"][i])==\"BOWL FIRST\") ):\n",
    "        batting_team.append(df2[\"away_team\"][i])\n",
    "        bowling_team.append(df2[\"home_team\"][i])\n",
    "    elif (((df2[\"away_team\"][i])==df2[\"toss_won\"][i]) & ((df2[\"decision\"][i])==\"BAT FIRST\") ):\n",
    "        batting_team.append(df2[\"away_team\"][i])\n",
    "        bowling_team.append(df2[\"home_team\"][i])\n",
    "    elif (((df2[\"away_team\"][i])==df2[\"toss_won\"][i]) & ((df2[\"decision\"][i])==\"BOWL FIRST\") ):\n",
    "        batting_team.append(df2[\"home_team\"][i])\n",
    "        bowling_team.append(df2[\"away_team\"][i])\n",
    "    else:\n",
    "        print(\"wrong Data\")"
   ]
  },
  {
   "cell_type": "code",
   "execution_count": 17,
   "id": "f641d1c5",
   "metadata": {},
   "outputs": [],
   "source": [
    "# Assigning list to our features\n",
    "df2[\"batting_team\"]=batting_team\n",
    "df2[\"bowling_team\"]=bowling_team"
   ]
  },
  {
   "cell_type": "code",
   "execution_count": 18,
   "id": "312c924f",
   "metadata": {},
   "outputs": [],
   "source": [
    "df=df.merge(df2[[\"match_id\",\"batting_team\",\"bowling_team\"]])"
   ]
  },
  {
   "cell_type": "code",
   "execution_count": 19,
   "id": "cee10368",
   "metadata": {},
   "outputs": [
    {
     "data": {
      "text/html": [
       "<div>\n",
       "<style scoped>\n",
       "    .dataframe tbody tr th:only-of-type {\n",
       "        vertical-align: middle;\n",
       "    }\n",
       "\n",
       "    .dataframe tbody tr th {\n",
       "        vertical-align: top;\n",
       "    }\n",
       "\n",
       "    .dataframe thead th {\n",
       "        text-align: right;\n",
       "    }\n",
       "</style>\n",
       "<table border=\"1\" class=\"dataframe\">\n",
       "  <thead>\n",
       "    <tr style=\"text-align: right;\">\n",
       "      <th></th>\n",
       "      <th>current_innings</th>\n",
       "      <th>innings_id</th>\n",
       "      <th>winner</th>\n",
       "    </tr>\n",
       "  </thead>\n",
       "  <tbody>\n",
       "    <tr>\n",
       "      <th>0</th>\n",
       "      <td>CSK</td>\n",
       "      <td>1</td>\n",
       "      <td>KKR</td>\n",
       "    </tr>\n",
       "    <tr>\n",
       "      <th>1</th>\n",
       "      <td>CSK</td>\n",
       "      <td>1</td>\n",
       "      <td>KKR</td>\n",
       "    </tr>\n",
       "    <tr>\n",
       "      <th>2</th>\n",
       "      <td>CSK</td>\n",
       "      <td>1</td>\n",
       "      <td>KKR</td>\n",
       "    </tr>\n",
       "    <tr>\n",
       "      <th>3</th>\n",
       "      <td>CSK</td>\n",
       "      <td>1</td>\n",
       "      <td>KKR</td>\n",
       "    </tr>\n",
       "    <tr>\n",
       "      <th>4</th>\n",
       "      <td>CSK</td>\n",
       "      <td>1</td>\n",
       "      <td>KKR</td>\n",
       "    </tr>\n",
       "    <tr>\n",
       "      <th>...</th>\n",
       "      <td>...</td>\n",
       "      <td>...</td>\n",
       "      <td>...</td>\n",
       "    </tr>\n",
       "    <tr>\n",
       "      <th>197861</th>\n",
       "      <td>RR</td>\n",
       "      <td>2</td>\n",
       "      <td>RR</td>\n",
       "    </tr>\n",
       "    <tr>\n",
       "      <th>197862</th>\n",
       "      <td>RR</td>\n",
       "      <td>2</td>\n",
       "      <td>RR</td>\n",
       "    </tr>\n",
       "    <tr>\n",
       "      <th>197863</th>\n",
       "      <td>RR</td>\n",
       "      <td>2</td>\n",
       "      <td>RR</td>\n",
       "    </tr>\n",
       "    <tr>\n",
       "      <th>197864</th>\n",
       "      <td>RR</td>\n",
       "      <td>2</td>\n",
       "      <td>RR</td>\n",
       "    </tr>\n",
       "    <tr>\n",
       "      <th>197865</th>\n",
       "      <td>RR</td>\n",
       "      <td>2</td>\n",
       "      <td>RR</td>\n",
       "    </tr>\n",
       "  </tbody>\n",
       "</table>\n",
       "<p>197866 rows × 3 columns</p>\n",
       "</div>"
      ],
      "text/plain": [
       "       current_innings  innings_id winner\n",
       "0                  CSK           1    KKR\n",
       "1                  CSK           1    KKR\n",
       "2                  CSK           1    KKR\n",
       "3                  CSK           1    KKR\n",
       "4                  CSK           1    KKR\n",
       "...                ...         ...    ...\n",
       "197861              RR           2     RR\n",
       "197862              RR           2     RR\n",
       "197863              RR           2     RR\n",
       "197864              RR           2     RR\n",
       "197865              RR           2     RR\n",
       "\n",
       "[197866 rows x 3 columns]"
      ]
     },
     "execution_count": 19,
     "metadata": {},
     "output_type": "execute_result"
    }
   ],
   "source": [
    "df[[\"current_innings\",\"innings_id\",\"winner\"]]"
   ]
  },
  {
   "cell_type": "markdown",
   "id": "12ea8d32",
   "metadata": {},
   "source": [
    "## Columns Requied:\n",
    "batting_team <br>\n",
    "bowling_team <br>\n",
    "city <br>\n",
    "runs_left <br>\n",
    "balls_left <br>\n",
    "wickets_left <br>\n",
    "total_runs_ x<br>\n",
    "crr <br>\n",
    "rrr <br>\n",
    "result"
   ]
  },
  {
   "cell_type": "code",
   "execution_count": 20,
   "id": "ec472087",
   "metadata": {},
   "outputs": [],
   "source": [
    "# Creating new dataframe with match_id,innings_id,runs features\n",
    "total_runs_df=df.groupby([\"match_id\",\"innings_id\"])[\"runs\"].sum().reset_index()"
   ]
  },
  {
   "cell_type": "code",
   "execution_count": 21,
   "id": "7e908de2",
   "metadata": {},
   "outputs": [],
   "source": [
    "# Creating total runs feature for both innings\n",
    "total_runs_df1=total_runs_df[total_runs_df[\"innings_id\"]==1] \n",
    "total_runs_df2=total_runs_df[total_runs_df[\"innings_id\"]==2] "
   ]
  },
  {
   "cell_type": "code",
   "execution_count": 22,
   "id": "f8986ec2",
   "metadata": {},
   "outputs": [],
   "source": [
    "total_runs_df1.rename(columns={\"runs\":\"total_runs_x\"},inplace=True)\n",
    "total_runs_df2.rename(columns={\"runs\":\"total_runs_y\"},inplace=True)"
   ]
  },
  {
   "cell_type": "code",
   "execution_count": 23,
   "id": "2f94a890",
   "metadata": {},
   "outputs": [],
   "source": [
    "match_df = df.merge(total_runs_df1[['match_id','total_runs_x']])\n",
    "match_df = match_df.merge(total_runs_df2[['match_id','total_runs_y']])"
   ]
  },
  {
   "cell_type": "code",
   "execution_count": 24,
   "id": "aa1f87ed",
   "metadata": {},
   "outputs": [],
   "source": [
    "match_df.drop(match_df[match_df[\"isRetiredHurt\"]].index,inplace=True) # We dont want rows with any injured players for any abnormalities"
   ]
  },
  {
   "cell_type": "code",
   "execution_count": 25,
   "id": "53c5fbe2",
   "metadata": {},
   "outputs": [],
   "source": [
    "match_df = match_df[match_df['innings_id'] == 2] # We are selecting only 2nd innings rows as we want to predict probability of winning of 2nd innings"
   ]
  },
  {
   "cell_type": "code",
   "execution_count": 27,
   "id": "ee1e6485",
   "metadata": {},
   "outputs": [],
   "source": [
    "match_df[\"current_score\"]=match_df.groupby('match_id')['runs'].cumsum() # Creating new feature current_score from runs"
   ]
  },
  {
   "cell_type": "code",
   "execution_count": 38,
   "id": "35f204e1",
   "metadata": {},
   "outputs": [],
   "source": [
    "match_df['runs_left'] = match_df ['total_runs_x'] - match_df ['current_score'] # Creating new feature runs_left from total runs and current score"
   ]
  },
  {
   "cell_type": "code",
   "execution_count": 29,
   "id": "5237d651",
   "metadata": {},
   "outputs": [],
   "source": [
    "match_df[\"balls_left\"]=126 - (match_df['over']*6 + match_df['ball']) # Creating new feature balls_left from over and ball columns"
   ]
  },
  {
   "cell_type": "code",
   "execution_count": 37,
   "id": "a1b24082",
   "metadata": {},
   "outputs": [],
   "source": [
    "# Creating wickets_left feature\n",
    "match_df['wkt_batsman_name'] = match_df['wkt_batsman_name'].fillna(\"0\")\n",
    "match_df['wkt_batsman_name'] = match_df['wkt_batsman_name'].apply(lambda x:x if x == \"0\" else \"1\")\n",
    "match_df['wkt_batsman_name'] = match_df['wkt_batsman_name'].astype('int')\n",
    "wickets = match_df.groupby('match_id')['wkt_batsman_name'].cumsum()\n",
    "match_df['wickets_left'] = 10 - wickets"
   ]
  },
  {
   "cell_type": "code",
   "execution_count": 39,
   "id": "1015d3bb",
   "metadata": {},
   "outputs": [],
   "source": [
    "# crr = runs/overs\n",
    "match_df[\"crr\"]=(match_df['current_score']*6)/ (120 - match_df['balls_left'])"
   ]
  },
  {
   "cell_type": "code",
   "execution_count": 40,
   "id": "bb68e77a",
   "metadata": {},
   "outputs": [],
   "source": [
    "#rrr= (6*runs_left)/balls_left\n",
    "match_df['rrr'] = (match_df['runs_left']*6)/match_df['balls_left']"
   ]
  },
  {
   "cell_type": "code",
   "execution_count": 41,
   "id": "fc6a2ffc",
   "metadata": {},
   "outputs": [],
   "source": [
    "match_df = match_df[match_df['balls_left'] != 0] # As it would mess up rrr"
   ]
  },
  {
   "cell_type": "code",
   "execution_count": 43,
   "id": "7eefe645",
   "metadata": {},
   "outputs": [],
   "source": [
    "match_df=match_df.merge(df2[[\"match_id\",\"winner\"]])"
   ]
  },
  {
   "cell_type": "code",
   "execution_count": 46,
   "id": "dbfbf34d",
   "metadata": {},
   "outputs": [],
   "source": [
    "def result(row):\n",
    "    return 1 if row['batting_team'] == row['winner'] else 0"
   ]
  },
  {
   "cell_type": "code",
   "execution_count": 47,
   "id": "ece62b7b",
   "metadata": {},
   "outputs": [],
   "source": [
    "# Creating new feature result from batting_team and winner\n",
    "match_df['result'] = match_df.apply(result,axis=1)"
   ]
  },
  {
   "cell_type": "code",
   "execution_count": 48,
   "id": "67dcd8d1",
   "metadata": {},
   "outputs": [],
   "source": [
    "match_df=match_df.merge(df3[[\"match_id\",\"city\"]])"
   ]
  },
  {
   "cell_type": "code",
   "execution_count": 49,
   "id": "eb413d52",
   "metadata": {},
   "outputs": [],
   "source": [
    "final_df = match_df[['batting_team','bowling_team','city','runs_left','balls_left','wickets_left','total_runs_x','crr','rrr','result']]"
   ]
  },
  {
   "cell_type": "code",
   "execution_count": 51,
   "id": "e3e52c1f",
   "metadata": {},
   "outputs": [],
   "source": [
    "# Splitting data\n",
    "X = final_df.drop(\"result\",axis=1)\n",
    "y = final_df[\"result\"]\n",
    "from sklearn.model_selection import train_test_split\n",
    "X_train,X_test,y_train,y_test = train_test_split(X,y,test_size=0.2,random_state=1)"
   ]
  },
  {
   "cell_type": "markdown",
   "id": "089eeecd",
   "metadata": {},
   "source": [
    "## Model Building"
   ]
  },
  {
   "cell_type": "code",
   "execution_count": 52,
   "id": "ca0b3c75",
   "metadata": {},
   "outputs": [],
   "source": [
    "# Creating onehotencoder pipeline\n",
    "from sklearn.compose import ColumnTransformer\n",
    "from sklearn.preprocessing import OneHotEncoder\n",
    "\n",
    "ohe = ColumnTransformer([\n",
    "    ('ohe',OneHotEncoder(sparse=False,drop='first'),['batting_team','bowling_team','city'])\n",
    "]\n",
    ",remainder='passthrough')"
   ]
  },
  {
   "cell_type": "code",
   "execution_count": 54,
   "id": "760dfcf7",
   "metadata": {},
   "outputs": [],
   "source": [
    "pipe = Pipeline(steps=[\n",
    "    ('step1',ohe),\n",
    "    ('step2',LogisticRegression(solver='liblinear')),\n",
    "])"
   ]
  },
  {
   "cell_type": "code",
   "execution_count": 55,
   "id": "f1f3f6df",
   "metadata": {},
   "outputs": [
    {
     "data": {
      "text/html": [
       "<style>#sk-container-id-1 {color: black;background-color: white;}#sk-container-id-1 pre{padding: 0;}#sk-container-id-1 div.sk-toggleable {background-color: white;}#sk-container-id-1 label.sk-toggleable__label {cursor: pointer;display: block;width: 100%;margin-bottom: 0;padding: 0.3em;box-sizing: border-box;text-align: center;}#sk-container-id-1 label.sk-toggleable__label-arrow:before {content: \"▸\";float: left;margin-right: 0.25em;color: #696969;}#sk-container-id-1 label.sk-toggleable__label-arrow:hover:before {color: black;}#sk-container-id-1 div.sk-estimator:hover label.sk-toggleable__label-arrow:before {color: black;}#sk-container-id-1 div.sk-toggleable__content {max-height: 0;max-width: 0;overflow: hidden;text-align: left;background-color: #f0f8ff;}#sk-container-id-1 div.sk-toggleable__content pre {margin: 0.2em;color: black;border-radius: 0.25em;background-color: #f0f8ff;}#sk-container-id-1 input.sk-toggleable__control:checked~div.sk-toggleable__content {max-height: 200px;max-width: 100%;overflow: auto;}#sk-container-id-1 input.sk-toggleable__control:checked~label.sk-toggleable__label-arrow:before {content: \"▾\";}#sk-container-id-1 div.sk-estimator input.sk-toggleable__control:checked~label.sk-toggleable__label {background-color: #d4ebff;}#sk-container-id-1 div.sk-label input.sk-toggleable__control:checked~label.sk-toggleable__label {background-color: #d4ebff;}#sk-container-id-1 input.sk-hidden--visually {border: 0;clip: rect(1px 1px 1px 1px);clip: rect(1px, 1px, 1px, 1px);height: 1px;margin: -1px;overflow: hidden;padding: 0;position: absolute;width: 1px;}#sk-container-id-1 div.sk-estimator {font-family: monospace;background-color: #f0f8ff;border: 1px dotted black;border-radius: 0.25em;box-sizing: border-box;margin-bottom: 0.5em;}#sk-container-id-1 div.sk-estimator:hover {background-color: #d4ebff;}#sk-container-id-1 div.sk-parallel-item::after {content: \"\";width: 100%;border-bottom: 1px solid gray;flex-grow: 1;}#sk-container-id-1 div.sk-label:hover label.sk-toggleable__label {background-color: #d4ebff;}#sk-container-id-1 div.sk-serial::before {content: \"\";position: absolute;border-left: 1px solid gray;box-sizing: border-box;top: 0;bottom: 0;left: 50%;z-index: 0;}#sk-container-id-1 div.sk-serial {display: flex;flex-direction: column;align-items: center;background-color: white;padding-right: 0.2em;padding-left: 0.2em;position: relative;}#sk-container-id-1 div.sk-item {position: relative;z-index: 1;}#sk-container-id-1 div.sk-parallel {display: flex;align-items: stretch;justify-content: center;background-color: white;position: relative;}#sk-container-id-1 div.sk-item::before, #sk-container-id-1 div.sk-parallel-item::before {content: \"\";position: absolute;border-left: 1px solid gray;box-sizing: border-box;top: 0;bottom: 0;left: 50%;z-index: -1;}#sk-container-id-1 div.sk-parallel-item {display: flex;flex-direction: column;z-index: 1;position: relative;background-color: white;}#sk-container-id-1 div.sk-parallel-item:first-child::after {align-self: flex-end;width: 50%;}#sk-container-id-1 div.sk-parallel-item:last-child::after {align-self: flex-start;width: 50%;}#sk-container-id-1 div.sk-parallel-item:only-child::after {width: 0;}#sk-container-id-1 div.sk-dashed-wrapped {border: 1px dashed gray;margin: 0 0.4em 0.5em 0.4em;box-sizing: border-box;padding-bottom: 0.4em;background-color: white;}#sk-container-id-1 div.sk-label label {font-family: monospace;font-weight: bold;display: inline-block;line-height: 1.2em;}#sk-container-id-1 div.sk-label-container {text-align: center;}#sk-container-id-1 div.sk-container {/* jupyter's `normalize.less` sets `[hidden] { display: none; }` but bootstrap.min.css set `[hidden] { display: none !important; }` so we also need the `!important` here to be able to override the default hidden behavior on the sphinx rendered scikit-learn.org. See: https://github.com/scikit-learn/scikit-learn/issues/21755 */display: inline-block !important;position: relative;}#sk-container-id-1 div.sk-text-repr-fallback {display: none;}</style><div id=\"sk-container-id-1\" class=\"sk-top-container\"><div class=\"sk-text-repr-fallback\"><pre>Pipeline(steps=[(&#x27;step1&#x27;,\n",
       "                 ColumnTransformer(remainder=&#x27;passthrough&#x27;,\n",
       "                                   transformers=[(&#x27;ohe&#x27;,\n",
       "                                                  OneHotEncoder(drop=&#x27;first&#x27;,\n",
       "                                                                sparse=False),\n",
       "                                                  [&#x27;batting_team&#x27;,\n",
       "                                                   &#x27;bowling_team&#x27;, &#x27;city&#x27;])])),\n",
       "                (&#x27;step2&#x27;, LogisticRegression(solver=&#x27;liblinear&#x27;))])</pre><b>In a Jupyter environment, please rerun this cell to show the HTML representation or trust the notebook. <br />On GitHub, the HTML representation is unable to render, please try loading this page with nbviewer.org.</b></div><div class=\"sk-container\" hidden><div class=\"sk-item sk-dashed-wrapped\"><div class=\"sk-label-container\"><div class=\"sk-label sk-toggleable\"><input class=\"sk-toggleable__control sk-hidden--visually\" id=\"sk-estimator-id-1\" type=\"checkbox\" ><label for=\"sk-estimator-id-1\" class=\"sk-toggleable__label sk-toggleable__label-arrow\">Pipeline</label><div class=\"sk-toggleable__content\"><pre>Pipeline(steps=[(&#x27;step1&#x27;,\n",
       "                 ColumnTransformer(remainder=&#x27;passthrough&#x27;,\n",
       "                                   transformers=[(&#x27;ohe&#x27;,\n",
       "                                                  OneHotEncoder(drop=&#x27;first&#x27;,\n",
       "                                                                sparse=False),\n",
       "                                                  [&#x27;batting_team&#x27;,\n",
       "                                                   &#x27;bowling_team&#x27;, &#x27;city&#x27;])])),\n",
       "                (&#x27;step2&#x27;, LogisticRegression(solver=&#x27;liblinear&#x27;))])</pre></div></div></div><div class=\"sk-serial\"><div class=\"sk-item sk-dashed-wrapped\"><div class=\"sk-label-container\"><div class=\"sk-label sk-toggleable\"><input class=\"sk-toggleable__control sk-hidden--visually\" id=\"sk-estimator-id-2\" type=\"checkbox\" ><label for=\"sk-estimator-id-2\" class=\"sk-toggleable__label sk-toggleable__label-arrow\">step1: ColumnTransformer</label><div class=\"sk-toggleable__content\"><pre>ColumnTransformer(remainder=&#x27;passthrough&#x27;,\n",
       "                  transformers=[(&#x27;ohe&#x27;,\n",
       "                                 OneHotEncoder(drop=&#x27;first&#x27;, sparse=False),\n",
       "                                 [&#x27;batting_team&#x27;, &#x27;bowling_team&#x27;, &#x27;city&#x27;])])</pre></div></div></div><div class=\"sk-parallel\"><div class=\"sk-parallel-item\"><div class=\"sk-item\"><div class=\"sk-label-container\"><div class=\"sk-label sk-toggleable\"><input class=\"sk-toggleable__control sk-hidden--visually\" id=\"sk-estimator-id-3\" type=\"checkbox\" ><label for=\"sk-estimator-id-3\" class=\"sk-toggleable__label sk-toggleable__label-arrow\">ohe</label><div class=\"sk-toggleable__content\"><pre>[&#x27;batting_team&#x27;, &#x27;bowling_team&#x27;, &#x27;city&#x27;]</pre></div></div></div><div class=\"sk-serial\"><div class=\"sk-item\"><div class=\"sk-estimator sk-toggleable\"><input class=\"sk-toggleable__control sk-hidden--visually\" id=\"sk-estimator-id-4\" type=\"checkbox\" ><label for=\"sk-estimator-id-4\" class=\"sk-toggleable__label sk-toggleable__label-arrow\">OneHotEncoder</label><div class=\"sk-toggleable__content\"><pre>OneHotEncoder(drop=&#x27;first&#x27;, sparse=False)</pre></div></div></div></div></div></div><div class=\"sk-parallel-item\"><div class=\"sk-item\"><div class=\"sk-label-container\"><div class=\"sk-label sk-toggleable\"><input class=\"sk-toggleable__control sk-hidden--visually\" id=\"sk-estimator-id-5\" type=\"checkbox\" ><label for=\"sk-estimator-id-5\" class=\"sk-toggleable__label sk-toggleable__label-arrow\">remainder</label><div class=\"sk-toggleable__content\"><pre>[&#x27;runs_left&#x27;, &#x27;balls_left&#x27;, &#x27;wickets_left&#x27;, &#x27;total_runs_x&#x27;, &#x27;crr&#x27;, &#x27;rrr&#x27;]</pre></div></div></div><div class=\"sk-serial\"><div class=\"sk-item\"><div class=\"sk-estimator sk-toggleable\"><input class=\"sk-toggleable__control sk-hidden--visually\" id=\"sk-estimator-id-6\" type=\"checkbox\" ><label for=\"sk-estimator-id-6\" class=\"sk-toggleable__label sk-toggleable__label-arrow\">passthrough</label><div class=\"sk-toggleable__content\"><pre>passthrough</pre></div></div></div></div></div></div></div></div><div class=\"sk-item\"><div class=\"sk-estimator sk-toggleable\"><input class=\"sk-toggleable__control sk-hidden--visually\" id=\"sk-estimator-id-7\" type=\"checkbox\" ><label for=\"sk-estimator-id-7\" class=\"sk-toggleable__label sk-toggleable__label-arrow\">LogisticRegression</label><div class=\"sk-toggleable__content\"><pre>LogisticRegression(solver=&#x27;liblinear&#x27;)</pre></div></div></div></div></div></div></div>"
      ],
      "text/plain": [
       "Pipeline(steps=[('step1',\n",
       "                 ColumnTransformer(remainder='passthrough',\n",
       "                                   transformers=[('ohe',\n",
       "                                                  OneHotEncoder(drop='first',\n",
       "                                                                sparse=False),\n",
       "                                                  ['batting_team',\n",
       "                                                   'bowling_team', 'city'])])),\n",
       "                ('step2', LogisticRegression(solver='liblinear'))])"
      ]
     },
     "execution_count": 55,
     "metadata": {},
     "output_type": "execute_result"
    }
   ],
   "source": [
    "pipe.fit(X_train,y_train)"
   ]
  },
  {
   "cell_type": "code",
   "execution_count": 56,
   "id": "b7273a7d",
   "metadata": {},
   "outputs": [],
   "source": [
    "y_pred = pipe.predict(X_test)"
   ]
  },
  {
   "cell_type": "code",
   "execution_count": 58,
   "id": "10414d12",
   "metadata": {},
   "outputs": [
    {
     "data": {
      "text/plain": [
       "0.788958848280796"
      ]
     },
     "execution_count": 58,
     "metadata": {},
     "output_type": "execute_result"
    }
   ],
   "source": [
    "accuracy_score(y_test,y_pred)"
   ]
  },
  {
   "cell_type": "code",
   "execution_count": 60,
   "id": "53d88b2c",
   "metadata": {},
   "outputs": [
    {
     "data": {
      "text/plain": [
       "array([[9.99737370e-01, 2.62629877e-04],\n",
       "       [1.82549968e-01, 8.17450032e-01],\n",
       "       [6.73036036e-01, 3.26963964e-01],\n",
       "       ...,\n",
       "       [9.02435030e-01, 9.75649703e-02],\n",
       "       [1.31034889e-01, 8.68965111e-01],\n",
       "       [5.38262435e-01, 4.61737565e-01]])"
      ]
     },
     "execution_count": 60,
     "metadata": {},
     "output_type": "execute_result"
    }
   ],
   "source": [
    "pipe.predict_proba(X_test)"
   ]
  },
  {
   "cell_type": "code",
   "execution_count": 96,
   "id": "c309f0ea",
   "metadata": {},
   "outputs": [],
   "source": [
    "import pickle\n",
    "pickle.dump(pipe,open('pipe.pkl','wb'))"
   ]
  }
 ],
 "metadata": {
  "kernelspec": {
   "display_name": "Python 3 (ipykernel)",
   "language": "python",
   "name": "python3"
  },
  "language_info": {
   "codemirror_mode": {
    "name": "ipython",
    "version": 3
   },
   "file_extension": ".py",
   "mimetype": "text/x-python",
   "name": "python",
   "nbconvert_exporter": "python",
   "pygments_lexer": "ipython3",
   "version": "3.8.16"
  }
 },
 "nbformat": 4,
 "nbformat_minor": 5
}
